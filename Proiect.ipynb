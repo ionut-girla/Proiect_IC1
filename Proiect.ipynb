{
 "cells": [
  {
   "cell_type": "markdown",
   "metadata": {},
   "source": [
    "#    PROIECT SEMESTRU IC1"
   ]
  },
  {
   "cell_type": "markdown",
   "metadata": {},
   "source": [
    "## by GIRLA Ionut 411-SIVA\n",
    "### Importing the necessary libraries"
   ]
  },
  {
   "cell_type": "code",
   "execution_count": 31,
   "metadata": {},
   "outputs": [],
   "source": [
    "import numpy as np\n",
    "import matplotlib.pyplot as plt\n",
    "import os\n",
    "import pickle\n",
    "import cv2\n",
    "import copy\n",
    "import pandas as pd\n",
    "import ipyplot\n",
    "import random\n",
    "import seaborn as sn\n",
    "from sklearn.decomposition import PCA\n",
    "from sklearn.model_selection import train_test_split\n",
    "from sklearn import preprocessing\n",
    "from sklearn.svm import SVC\n",
    "from sklearn import svm\n",
    "from sklearn.pipeline import make_pipeline\n",
    "from sklearn.metrics import confusion_matrix\n",
    "from sklearn.preprocessing import normalize\n",
    "from sklearn.preprocessing import MaxAbsScaler\n",
    "from sklearn.preprocessing import MinMaxScaler\n",
    "from sklearn.preprocessing import StandardScaler\n",
    "from sklearn.metrics import accuracy_score"
   ]
  },
  {
   "cell_type": "markdown",
   "metadata": {},
   "source": [
    "Definire variabile globale necesare in executie"
   ]
  },
  {
   "cell_type": "code",
   "execution_count": 3,
   "metadata": {},
   "outputs": [],
   "source": [
    "DATADIR = \"E:/SIVA-Master/AN_1/Sem_1/IC1/proiect_semestru/dataset/jaffedbase\"\n",
    "CATEGORIES = []\n",
    "\n",
    "train_ratio = 0.85\n",
    "test_ratio = 0.15\n"
   ]
  },
  {
   "cell_type": "markdown",
   "metadata": {},
   "source": [
    "Preluare categorii din fisierul text"
   ]
  },
  {
   "cell_type": "code",
   "execution_count": 4,
   "metadata": {},
   "outputs": [
    {
     "name": "stdout",
     "output_type": "stream",
     "text": [
      "KA.AN1.39.tiff\n",
      "KA-AN1\n",
      "# HAP SAD SUR ANG DIS PIC\n",
      "\n",
      "['HAP', 'SAD', 'SUR', 'ANG', 'DIS']\n"
     ]
    }
   ],
   "source": [
    "labels = open(\"labels.txt\")\n",
    "for img in os.listdir(DATADIR):\n",
    "    print(img)\n",
    "    new_string = img.split(sep=\".\")[0] + \"-\" + img.split(sep=\".\")[1]\n",
    "    print(new_string)\n",
    "    break\n",
    "    \n",
    "with open(\"labels.txt\") as f:\n",
    "    first_line = f.readline()\n",
    "    print(first_line)\n",
    "    CATEGORIES = first_line.split(sep=\" \")[1:-1]\n",
    "    print(CATEGORIES)"
   ]
  },
  {
   "cell_type": "markdown",
   "metadata": {},
   "source": [
    "Import poze si construirea setului de date de forma imagine - eticheta"
   ]
  },
  {
   "cell_type": "code",
   "execution_count": 5,
   "metadata": {
    "scrolled": true
   },
   "outputs": [
    {
     "name": "stdout",
     "output_type": "stream",
     "text": [
      "(213, 2)\n"
     ]
    },
    {
     "name": "stderr",
     "output_type": "stream",
     "text": [
      "E:\\Anaconda3\\lib\\site-packages\\numpy\\core\\_asarray.py:83: VisibleDeprecationWarning: Creating an ndarray from ragged nested sequences (which is a list-or-tuple of lists-or-tuples-or ndarrays with different lengths or shapes) is deprecated. If you meant to do this, you must specify 'dtype=object' when creating the ndarray\n",
      "  return array(a, dtype, copy=False, order=order)\n"
     ]
    }
   ],
   "source": [
    "def import_dataset():\n",
    "    contor = 0\n",
    "    for img in os.listdir(DATADIR):\n",
    "            try:\n",
    "                #print(f\"suntem la pasul {contor}\")\n",
    "                new_string = img.split(sep=\".\")[0] + \"-\" + img.split(sep=\".\")[1]\n",
    "                img_array = cv2.imread(os.path.join(DATADIR,img), cv2.IMREAD_GRAYSCALE)\n",
    "                labels = open(\"labels.txt\")\n",
    "                for line in labels:\n",
    "                    #print(f\"line = {line}\")\n",
    "                    if new_string in line:\n",
    "                        #print(f\"new_string = {new_string}; with line = {line}\")\n",
    "                        result = line.split(sep=\" \")[1:-1] \n",
    "                        max_val = result[0]\n",
    "                        index = 0\n",
    "                        #print(len(result))\n",
    "                        for i in range (1,len(result)):\n",
    "                            #print(f\"i = {i} ; result[i] = {result[i]}; max_val = {max_val}; index = {index}\")\n",
    "                            if max_val < result[i]:\n",
    "                                index = i\n",
    "                                max_val = result[i]\n",
    "                #print(index)\n",
    "                labels.close()\n",
    "                dataset.append([img_array, index])\n",
    "                contor = contor + 1\n",
    "            except Exception as e:\n",
    "                pass\n",
    "dataset = [] \n",
    "import_dataset()\n",
    "print(np.shape(dataset))\n",
    "#print(np.shape(dataset[0][0]))\n",
    "#print(np.shape(dataset[0][1]))\n"
   ]
  },
  {
   "cell_type": "markdown",
   "metadata": {},
   "source": [
    "Impartirea in Matrice de caracteristici si vector de valori dependente"
   ]
  },
  {
   "cell_type": "code",
   "execution_count": 23,
   "metadata": {},
   "outputs": [
    {
     "name": "stdout",
     "output_type": "stream",
     "text": [
      " size of x_train: 181, size of x_test: 32\n",
      " size of x_train: (181, 65536), size of x_test: (32, 65536)\n"
     ]
    }
   ],
   "source": [
    "X = []\n",
    "y = []\n",
    "for features, label in dataset:\n",
    "    X.append(features)\n",
    "    y.append(label)\n",
    "    \n",
    "#X = np.array(X).reshape(-1, IMG_SIZE, IMG_SIZE, 1)  #to be uncommented if chosen to resize imgs\n",
    "\n",
    "\n",
    "\n",
    "x_train, x_test, y_train, y_test = train_test_split(X, y, test_size=1 - train_ratio)\n",
    "\n",
    "x_train = np.reshape(x_train,(len(x_train),256*256))\n",
    "x_test = np.reshape(x_test,((len(X)-len(x_train)),256*256))\n",
    "print(f\" size of x_train: {len(x_train)}, size of x_test: {len(x_test)}\")\n",
    "\n",
    "print(f\" size of x_train: {np.shape(x_train)}, size of x_test: {np.shape(x_test)}\")\n"
   ]
  },
  {
   "cell_type": "code",
   "execution_count": 6,
   "metadata": {},
   "outputs": [
    {
     "data": {
      "text/plain": [
       "array([[0.56296296, 0.62878788, 0.54545455, ..., 0.31578947, 0.26086957,\n",
       "        0.31914894],\n",
       "       [0.51851852, 0.58333333, 0.60606061, ..., 0.29323308, 0.30434783,\n",
       "        0.25531915],\n",
       "       [0.48148148, 0.56818182, 0.65151515, ..., 0.38345865, 0.39855072,\n",
       "        0.40425532],\n",
       "       ...,\n",
       "       [0.51851852, 0.62121212, 0.48484848, ..., 0.43609023, 0.52173913,\n",
       "        0.46808511],\n",
       "       [0.8       , 0.83333333, 0.88636364, ..., 0.62406015, 0.61594203,\n",
       "        0.58865248],\n",
       "       [0.55555556, 0.59090909, 0.59090909, ..., 0.02255639, 0.02173913,\n",
       "        0.06382979]])"
      ]
     },
     "execution_count": 6,
     "metadata": {},
     "output_type": "execute_result"
    }
   ],
   "source": [
    "MinMaxScaler().fit_transform(x_train)\n",
    "MinMaxScaler().fit_transform(x_test)"
   ]
  },
  {
   "cell_type": "markdown",
   "metadata": {},
   "source": [
    "Aplicare clasificator SVM "
   ]
  },
  {
   "cell_type": "code",
   "execution_count": 24,
   "metadata": {},
   "outputs": [
    {
     "name": "stdout",
     "output_type": "stream",
     "text": [
      "[[5 0 0 4 6]\n",
      " [0 1 0 1 1]\n",
      " [0 0 3 0 2]\n",
      " [0 0 0 1 0]\n",
      " [0 0 1 0 7]]\n"
     ]
    }
   ],
   "source": [
    "\n",
    "#clf = make_pipeline(StandardScaler(), SVC(gamma='auto'))\n",
    "#clf.fit(data_train, y_train)\n",
    "#y_predicted_svm = clf.predict(data_test)\n",
    "clf = svm.SVC()\n",
    "clf.fit(x_train,y_train)\n",
    "y_predicted_svm = clf.predict(x_test)\n",
    "\n",
    "\n",
    "cm = confusion_matrix(y_true = y_test[:] ,y_pred = y_predicted_svm)\n",
    "print(cm)\n",
    "\n"
   ]
  },
  {
   "cell_type": "markdown",
   "metadata": {},
   "source": [
    "Calcul precizie"
   ]
  },
  {
   "cell_type": "code",
   "execution_count": 25,
   "metadata": {},
   "outputs": [
    {
     "name": "stdout",
     "output_type": "stream",
     "text": [
      "precizie = 0.53125\n"
     ]
    }
   ],
   "source": [
    "contor = 0\n",
    "for i in range (len(y_test)):\n",
    "    if (y_test[i] == y_predicted_svm[i]):\n",
    "        contor = contor + 1\n",
    "\n",
    "print(f\"precizie = {contor/len(y_test)}\")"
   ]
  },
  {
   "cell_type": "markdown",
   "metadata": {},
   "source": [
    "Aplicare PCA asupra datelor pastrand cele mai semnificative 50 de componente (din 65536 initiale)"
   ]
  },
  {
   "cell_type": "code",
   "execution_count": 9,
   "metadata": {},
   "outputs": [],
   "source": [
    "\n",
    "pca = PCA(n_components = 50)\n",
    "x_train = pca.fit_transform(x_train)\n",
    "x_test = pca.transform(x_test)\n",
    "explained_variance = pca.explained_variance_ratio_\n"
   ]
  },
  {
   "cell_type": "code",
   "execution_count": 7,
   "metadata": {},
   "outputs": [
    {
     "ename": "NameError",
     "evalue": "name 'explained_variance' is not defined",
     "output_type": "error",
     "traceback": [
      "\u001b[1;31m---------------------------------------------------------------------------\u001b[0m",
      "\u001b[1;31mNameError\u001b[0m                                 Traceback (most recent call last)",
      "\u001b[1;32m<ipython-input-7-1c713a457356>\u001b[0m in \u001b[0;36m<module>\u001b[1;34m\u001b[0m\n\u001b[1;32m----> 1\u001b[1;33m \u001b[0mprint\u001b[0m\u001b[1;33m(\u001b[0m\u001b[0mexplained_variance\u001b[0m\u001b[1;33m)\u001b[0m\u001b[1;33m\u001b[0m\u001b[1;33m\u001b[0m\u001b[0m\n\u001b[0m",
      "\u001b[1;31mNameError\u001b[0m: name 'explained_variance' is not defined"
     ]
    }
   ],
   "source": [
    "print(explained_variance)"
   ]
  },
  {
   "cell_type": "markdown",
   "metadata": {},
   "source": [
    "Aplicare clasificator dupa reducerea dimensiunilor"
   ]
  },
  {
   "cell_type": "code",
   "execution_count": 8,
   "metadata": {},
   "outputs": [
    {
     "name": "stdout",
     "output_type": "stream",
     "text": [
      "[[3 0 0 1 2]\n",
      " [4 1 0 1 1]\n",
      " [1 0 3 0 2]\n",
      " [0 0 0 3 0]\n",
      " [2 0 1 1 6]]\n"
     ]
    }
   ],
   "source": [
    "\n",
    "#clf = make_pipeline(StandardScaler(), SVC(gamma='auto'))\n",
    "#clf.fit(data_train, y_train)\n",
    "#y_predicted_svm = clf.predict(data_test)\n",
    "clf_after_pca = svm.SVC()\n",
    "clf_after_pca.fit(x_train,y_train)\n",
    "y_predicted_svm = clf_after_pca.predict(x_test)\n",
    "\n",
    "\n",
    "cm = confusion_matrix(y_true = y_test[:] ,y_pred = y_predicted_svm)\n",
    "print(cm)"
   ]
  },
  {
   "cell_type": "markdown",
   "metadata": {},
   "source": [
    "Calculare precizie dupa PCA"
   ]
  },
  {
   "cell_type": "code",
   "execution_count": 9,
   "metadata": {},
   "outputs": [
    {
     "name": "stdout",
     "output_type": "stream",
     "text": [
      "precizie = 0.5\n"
     ]
    }
   ],
   "source": [
    "contor = 0\n",
    "for i in range (len(y_test)):\n",
    "    if (y_test[i] == y_predicted_svm[i]):\n",
    "        contor = contor + 1\n",
    "\n",
    "print(f\"precizie = {contor/len(y_test)}\")"
   ]
  },
  {
   "cell_type": "code",
   "execution_count": null,
   "metadata": {},
   "outputs": [],
   "source": [
    "from sklearn.preprocessing import StandardScaler\n",
    "sc_X = StandardScaler()\n",
    "x_train = sc_X.fit_transform(x_train)\n",
    "x_test = sc_X.transform(x_test)"
   ]
  },
  {
   "cell_type": "markdown",
   "metadata": {},
   "source": [
    "# Grid Search"
   ]
  },
  {
   "cell_type": "markdown",
   "metadata": {},
   "source": [
    "\n",
    "Variem numarul componentelor cat si metoda de scalare a datelor folosita:"
   ]
  },
  {
   "cell_type": "code",
   "execution_count": 26,
   "metadata": {},
   "outputs": [
    {
     "name": "stdout",
     "output_type": "stream",
     "text": [
      "4\n",
      "(4, 3)\n"
     ]
    },
    {
     "name": "stderr",
     "output_type": "stream",
     "text": [
      "E:\\Anaconda3\\lib\\site-packages\\numpy\\core\\_asarray.py:83: VisibleDeprecationWarning: Creating an ndarray from ragged nested sequences (which is a list-or-tuple of lists-or-tuples-or ndarrays with different lengths or shapes) is deprecated. If you meant to do this, you must specify 'dtype=object' when creating the ndarray\n",
      "  return array(a, dtype, copy=False, order=order)\n"
     ]
    },
    {
     "name": "stdout",
     "output_type": "stream",
     "text": [
      "       Scaler  NumberOfComponents  Accuracy\n",
      "5  No scaling                  35    84.375\n"
     ]
    },
    {
     "data": {
      "image/png": "[encoded data removed]",
      "text/plain": [
       "<Figure size 720x504 with 2 Axes>"
      ]
     },
     "metadata": {
      "needs_background": "light"
     },
     "output_type": "display_data"
    }
   ],
   "source": [
    "acc_list = []\n",
    "scaling = [\n",
    "    ('No scaling', x_train, x_test),\n",
    "    ('Scale', preprocessing.scale(x_train), preprocessing.scale(x_test)),\n",
    "    ('Min Max Scaler', MinMaxScaler().fit_transform(x_train), MinMaxScaler().fit_transform(x_test)),\n",
    "    ('Max Abs Scaler', MaxAbsScaler().fit_transform(x_train), MaxAbsScaler().fit_transform(x_test))\n",
    "]\n",
    "\n",
    "print(len(scaling))\n",
    "print(np.shape(scaling))\n",
    "\n",
    "pca_values = [5, 10, 15, 20, 25, 35, 50, 100]\n",
    "\n",
    "for name, train, test in scaling:\n",
    "    for number_of_components in pca_values:\n",
    "        train_local = copy.copy(train)\n",
    "        test_local = copy.copy(test)\n",
    "        pca = PCA(n_components = number_of_components)\n",
    "        x_train_curent = pca.fit_transform(train_local)\n",
    "        x_test_curent = pca.transform(test_local)    \n",
    "        clf = svm.SVC()\n",
    "        clf.fit(x_train_curent,y_train)\n",
    "        y_predicted = clf.predict(x_test_curent)\n",
    "        acc_list.append([name, number_of_components, accuracy_score(y_predicted, y_test)*100])\n",
    "acc_df = pd.DataFrame(acc_list)\n",
    "acc_df.columns = ['Scaler', 'NumberOfComponents', 'Accuracy']\n",
    "\n",
    "print(acc_df[acc_df.Accuracy == acc_df.Accuracy.max()])\n",
    "\n",
    "heatmap = pd.pivot_table(acc_df, values='Accuracy', \n",
    "                     index=['NumberOfComponents'], \n",
    "                     columns=['Scaler'])\n",
    "\n",
    "plt.figure(figsize=(10,7))\n",
    "sn.heatmap(heatmap, annot=True, cmap=\"Blues\")\n",
    "plt.show()"
   ]
  },
  {
   "cell_type": "code",
   "execution_count": 42,
   "metadata": {},
   "outputs": [
    {
     "name": "stdout",
     "output_type": "stream",
     "text": [
      "[[12  0  0  3  0]\n",
      " [ 0  2  0  1  0]\n",
      " [ 0  0  5  0  0]\n",
      " [ 0  0  0  1  0]\n",
      " [ 0  0  1  0  7]]\n",
      "precizie = 0.84375\n"
     ]
    }
   ],
   "source": [
    "train_local = copy.copy(x_train)\n",
    "test_local = copy.copy(x_test)\n",
    "pca = PCA(n_components = 35)\n",
    "x_train_curent = pca.fit_transform(train_local)\n",
    "x_test_curent = pca.transform(test_local)  \n",
    "clf = svm.SVC()\n",
    "clf.fit(x_train_curent,y_train)\n",
    "y_predicted = clf.predict(x_test_curent)\n",
    "\n",
    "cm = confusion_matrix(y_true = y_test[:] ,y_pred = y_predicted)\n",
    "print(cm)\n",
    "        \n",
    "\n",
    "\n",
    "contor = 0\n",
    "for i in range (len(y_test)):\n",
    "    if (y_test[i] == y_predicted[i]):\n",
    "        contor = contor + 1\n",
    "\n",
    "print(f\"precizie = {contor/len(y_test)}\")"
   ]
  },
  {
   "cell_type": "code",
   "execution_count": 43,
   "metadata": {},
   "outputs": [],
   "source": [
    "filename = 'finalized_model.sav'\n",
    "pickle.dump(clf, open(filename, 'wb'))"
   ]
  },
  {
   "cell_type": "code",
   "execution_count": 44,
   "metadata": {},
   "outputs": [
    {
     "data": {
      "text/plain": [
       "0.84375"
      ]
     },
     "execution_count": 44,
     "metadata": {},
     "output_type": "execute_result"
    }
   ],
   "source": [
    "clf.score(x_test_curent,y_test)"
   ]
  },
  {
   "cell_type": "code",
   "execution_count": 45,
   "metadata": {},
   "outputs": [],
   "source": [
    "with open('train.pickle', 'wb') as f:\n",
    "    pickle.dump([x_train_curent, y_train], f)"
   ]
  },
  {
   "cell_type": "code",
   "execution_count": 46,
   "metadata": {},
   "outputs": [],
   "source": [
    "with open('test.pickle', 'wb') as f:\n",
    "    pickle.dump([x_test_curent, y_test], f)"
   ]
  },
  {
   "cell_type": "code",
   "execution_count": 47,
   "metadata": {},
   "outputs": [
    {
     "name": "stdout",
     "output_type": "stream",
     "text": [
      "[[12  0  0  3  0]\n",
      " [ 0  2  0  1  0]\n",
      " [ 0  0  5  0  0]\n",
      " [ 0  0  0  1  0]\n",
      " [ 0  0  1  0  7]]\n"
     ]
    },
    {
     "data": {
      "text/plain": [
       "0.84375"
      ]
     },
     "execution_count": 47,
     "metadata": {},
     "output_type": "execute_result"
    }
   ],
   "source": [
    "with open('train.pickle', 'rb') as f:\n",
    "    x_train_pickle, y_train_pickle = pickle.load(f)\n",
    "    \n",
    "with open('test.pickle', 'rb') as f:\n",
    "    x_test_pickle, y_test_pickle = pickle.load(f)\n",
    "\n",
    "clf = svm.SVC()\n",
    "clf.fit(x_train_curent,y_train)\n",
    "y_predicted = clf.predict(x_test_curent)\n",
    "\n",
    "cm = confusion_matrix(y_true = y_test[:] ,y_pred = y_predicted)\n",
    "print(cm)\n",
    "        \n",
    "\n",
    "clf.score(x_test_curent,y_test)"
   ]
  },
  {
   "cell_type": "code",
   "execution_count": 48,
   "metadata": {},
   "outputs": [
    {
     "data": {
      "text/plain": [
       "0.84375"
      ]
     },
     "execution_count": 48,
     "metadata": {},
     "output_type": "execute_result"
    }
   ],
   "source": [
    "with open('finalized_model.sav', 'rb') as f:\n",
    "    clf = pickle.load(f)\n",
    "   \n",
    "with open('test.pickle', 'rb') as f:\n",
    "    x_test_pickle, y_test_pickle = pickle.load(f)   \n",
    "    \n",
    "    \n",
    "clf.score(x_test_pickle,y_test_pickle)"
   ]
  },
  {
   "cell_type": "code",
   "execution_count": null,
   "metadata": {},
   "outputs": [],
   "source": []
  }
 ],
 "metadata": {
  "kernelspec": {
   "display_name": "Python 3",
   "language": "python",
   "name": "python3"
  },
  "language_info": {
   "codemirror_mode": {
    "name": "ipython",
    "version": 3
   },
   "file_extension": ".py",
   "mimetype": "text/x-python",
   "name": "python",
   "nbconvert_exporter": "python",
   "pygments_lexer": "ipython3",
   "version": "3.7.9"
  }
 },
 "nbformat": 4,
 "nbformat_minor": 4
}
